{
  "nbformat": 4,
  "nbformat_minor": 0,
  "metadata": {
    "colab": {
      "name": "Chatbot.ipynb",
      "provenance": [],
      "authorship_tag": "ABX9TyPPNTb4iz4gs4q/cA5DeErv",
      "include_colab_link": true
    },
    "kernelspec": {
      "name": "python3",
      "display_name": "Python 3"
    },
    "language_info": {
      "name": "python"
    }
  },
  "cells": [
    {
      "cell_type": "markdown",
      "metadata": {
        "id": "view-in-github",
        "colab_type": "text"
      },
      "source": [
        "<a href=\"https://colab.research.google.com/github/tejpal123456789/Chatbot/blob/main/Chatbot.ipynb\" target=\"_parent\"><img src=\"https://colab.research.google.com/assets/colab-badge.svg\" alt=\"Open In Colab\"/></a>"
      ]
    },
    {
      "cell_type": "code",
      "metadata": {
        "colab": {
          "base_uri": "https://localhost:8080/"
        },
        "id": "IJ4qTcm8baXZ",
        "outputId": "eaabc9e2-da12-446a-b0be-bb2f88cd599b"
      },
      "source": [
        "import pandas as pd\n",
        "import numpy as np\n",
        "import nltk\n",
        "nltk.download('punkt')\n",
        "import random\n",
        "import tensorflow\n",
        "from tensorflow.keras.models import Sequential\n",
        "from tensorflow.keras.layers import Flatten,Dense,Activation\n",
        "import json\n"
      ],
      "execution_count": 108,
      "outputs": [
        {
          "output_type": "stream",
          "text": [
            "[nltk_data] Downloading package punkt to /root/nltk_data...\n",
            "[nltk_data]   Package punkt is already up-to-date!\n"
          ],
          "name": "stdout"
        }
      ]
    },
    {
      "cell_type": "code",
      "metadata": {
        "colab": {
          "base_uri": "https://localhost:8080/"
        },
        "id": "4kyU4R-wb6de",
        "outputId": "a41a5b12-662a-4ad5-c068-3e440d7ae4ee"
      },
      "source": [
        "!git clone https://github.com/tejpal123456789/Chatbot.git"
      ],
      "execution_count": 109,
      "outputs": [
        {
          "output_type": "stream",
          "text": [
            "fatal: destination path 'Chatbot' already exists and is not an empty directory.\n"
          ],
          "name": "stdout"
        }
      ]
    },
    {
      "cell_type": "code",
      "metadata": {
        "id": "88ukGCzBb_Qu"
      },
      "source": [
        "# import our chat-bot intents file\n",
        "with open('/content/Chatbot/intents.json') as json_data:\n",
        "    data = json.load(json_data)"
      ],
      "execution_count": 110,
      "outputs": []
    },
    {
      "cell_type": "code",
      "metadata": {
        "colab": {
          "base_uri": "https://localhost:8080/"
        },
        "id": "ay3Z9jwicUW9",
        "outputId": "1c43ab2b-e277-4de4-85b6-d7219ea933a0"
      },
      "source": [
        "print(data)"
      ],
      "execution_count": 111,
      "outputs": [
        {
          "output_type": "stream",
          "text": [
            "{'intents': [{'tag': 'greeting', 'patterns': ['Hi', 'How are you', 'Is anyone there?', 'Hello', 'Good day'], 'responses': ['Hello, thanks for visiting', 'Good to see you again', 'Hi there, how can I help?'], 'context_set': ''}, {'tag': 'goodbye', 'patterns': ['Bye', 'See you later', 'Goodbye'], 'responses': ['See you later, thanks for visiting', 'Have a nice day', 'Bye! Come back again soon.']}, {'tag': 'thanks', 'patterns': ['Thanks', 'Thank you', \"That's helpful\"], 'responses': ['Happy to help!', 'Any time!', 'My pleasure']}, {'tag': 'hours', 'patterns': ['What hours are you open?', 'What are your hours?', 'When are you open?'], 'responses': [\"We're open every day 9am-9pm\", 'Our hours are 9am-9pm every day']}, {'tag': 'location', 'patterns': ['What is your location?', 'Where are you located?', 'What is your address?', 'Where is your restaurant situated?'], 'responses': ['We are on the intersection of London Alley and Bridge Avenue.', 'We are situated at the intersection of London Alley and Bridge Avenue', 'Our Address is: 1000 Bridge Avenue, London EC3N 4AJ, UK']}, {'tag': 'payments', 'patterns': ['Do you take credit cards?', 'Do you accept Mastercard?', 'Are you cash only?'], 'responses': ['We accept VISA, Mastercard and AMEX', 'We accept most major credit cards']}, {'tag': 'todaysmenu', 'patterns': ['What is your menu for today?', 'What are you serving today?', \"What is today's special?\"], 'responses': [\"Today's special is Chicken Tikka\", 'Our speciality for today is Chicken Tikka']}, {'tag': 'deliveryoption', 'patterns': ['Do you provide home delivery?', 'Do you deliver the food?', 'What are the home delivery options?'], 'responses': ['Yes, we provide home delivery through UBER Eats and Zomato?', 'We have home delivery options through UBER Eats and Zomato'], 'context_set': 'food'}, {'tag': 'menu', 'patterns': ['What is your Menu?', 'What are the main course options?', 'Can you tell me the most delicious dish from the menu?', \"What is the today's special?\"], 'responses': ['You can visit www.mymenu.com for menu options', 'You can check out the food menu at www.mymenu.com', 'You can check various delicacies given in the food menu at www.mymenu.com'], 'context_filter': 'food'}]}\n"
          ],
          "name": "stdout"
        }
      ]
    },
    {
      "cell_type": "code",
      "metadata": {
        "id": "XvW0YI-BdoMt"
      },
      "source": [
        "pattern=['Hi', 'How are you', 'Is anyone there?', 'Hello', 'Good day']\n",
        "wrds=[]\n",
        "for x in range(len(pattern)):\n",
        "   \n",
        "    wrds.extend(nltk.word_tokenize(pattern[x]))\n"
      ],
      "execution_count": 112,
      "outputs": []
    },
    {
      "cell_type": "code",
      "metadata": {
        "colab": {
          "base_uri": "https://localhost:8080/"
        },
        "id": "ZOhFgDQFcZF9",
        "outputId": "2ed9c9c8-2c75-4171-f39c-a97c98baea6c"
      },
      "source": [
        "\n",
        "words=[]\n",
        "\n",
        "doc_x=[]\n",
        "doc_y=[]\n",
        "\n",
        "\n",
        "for intent in data['intents']:\n",
        "    for pattern in intent['patterns']:\n",
        "        wrds=nltk.word_tokenize(pattern)\n",
        "        words.extend(wrds)\n",
        "        doc_x.append(pattern)\n",
        "        doc_y.append(intent['tag'])\n",
        "    \n",
        "    if intent['tag'] not in labels:\n",
        "        labels.append(intent['tag'])\n",
        "\n",
        "print(words)\n",
        "print(labels)\n",
        "print(doc_x)\n",
        "print(doc_y)"
      ],
      "execution_count": 113,
      "outputs": [
        {
          "output_type": "stream",
          "text": [
            "['Hi', 'How', 'are', 'you', 'Is', 'anyone', 'there', '?', 'Hello', 'Good', 'day', 'Bye', 'See', 'you', 'later', 'Goodbye', 'Thanks', 'Thank', 'you', 'That', \"'s\", 'helpful', 'What', 'hours', 'are', 'you', 'open', '?', 'What', 'are', 'your', 'hours', '?', 'When', 'are', 'you', 'open', '?', 'What', 'is', 'your', 'location', '?', 'Where', 'are', 'you', 'located', '?', 'What', 'is', 'your', 'address', '?', 'Where', 'is', 'your', 'restaurant', 'situated', '?', 'Do', 'you', 'take', 'credit', 'cards', '?', 'Do', 'you', 'accept', 'Mastercard', '?', 'Are', 'you', 'cash', 'only', '?', 'What', 'is', 'your', 'menu', 'for', 'today', '?', 'What', 'are', 'you', 'serving', 'today', '?', 'What', 'is', 'today', \"'s\", 'special', '?', 'Do', 'you', 'provide', 'home', 'delivery', '?', 'Do', 'you', 'deliver', 'the', 'food', '?', 'What', 'are', 'the', 'home', 'delivery', 'options', '?', 'What', 'is', 'your', 'Menu', '?', 'What', 'are', 'the', 'main', 'course', 'options', '?', 'Can', 'you', 'tell', 'me', 'the', 'most', 'delicious', 'dish', 'from', 'the', 'menu', '?', 'What', 'is', 'the', 'today', \"'s\", 'special', '?']\n",
            "['deliveryoption', 'goodbye', 'greeting', 'hours', 'location', 'menu', 'payments', 'thanks', 'todaysmenu']\n",
            "['Hi', 'How are you', 'Is anyone there?', 'Hello', 'Good day', 'Bye', 'See you later', 'Goodbye', 'Thanks', 'Thank you', \"That's helpful\", 'What hours are you open?', 'What are your hours?', 'When are you open?', 'What is your location?', 'Where are you located?', 'What is your address?', 'Where is your restaurant situated?', 'Do you take credit cards?', 'Do you accept Mastercard?', 'Are you cash only?', 'What is your menu for today?', 'What are you serving today?', \"What is today's special?\", 'Do you provide home delivery?', 'Do you deliver the food?', 'What are the home delivery options?', 'What is your Menu?', 'What are the main course options?', 'Can you tell me the most delicious dish from the menu?', \"What is the today's special?\"]\n",
            "['greeting', 'greeting', 'greeting', 'greeting', 'greeting', 'goodbye', 'goodbye', 'goodbye', 'thanks', 'thanks', 'thanks', 'hours', 'hours', 'hours', 'location', 'location', 'location', 'location', 'payments', 'payments', 'payments', 'todaysmenu', 'todaysmenu', 'todaysmenu', 'deliveryoption', 'deliveryoption', 'deliveryoption', 'menu', 'menu', 'menu', 'menu']\n"
          ],
          "name": "stdout"
        }
      ]
    },
    {
      "cell_type": "code",
      "metadata": {
        "id": "AJv1lhmyhZMq"
      },
      "source": [
        "# Cleaning the texts\n",
        "import re\n",
        "from nltk.corpus import stopwords\n",
        "from nltk.stem.porter import PorterStemmer\n",
        "from nltk.stem import WordNetLemmatizer"
      ],
      "execution_count": 114,
      "outputs": []
    },
    {
      "cell_type": "code",
      "metadata": {
        "colab": {
          "base_uri": "https://localhost:8080/"
        },
        "id": "DTE-jhywhu6a",
        "outputId": "c9de8266-1a43-44f5-d1e6-de0a02da8e6d"
      },
      "source": [
        "ps=PorterStemmer()\n",
        "words=[ps.stem(word.lower()) for word in words ]\n",
        "words=sorted(list(set(words)))\n",
        "print(words)\n",
        "labels=sorted(list(set(labels)))\n",
        "print(labels)"
      ],
      "execution_count": 115,
      "outputs": [
        {
          "output_type": "stream",
          "text": [
            "[\"'s\", '?', 'accept', 'address', 'anyon', 'are', 'bye', 'can', 'card', 'cash', 'cours', 'credit', 'day', 'delici', 'deliv', 'deliveri', 'dish', 'do', 'food', 'for', 'from', 'good', 'goodby', 'hello', 'help', 'hi', 'home', 'hour', 'how', 'is', 'later', 'locat', 'main', 'mastercard', 'me', 'menu', 'most', 'onli', 'open', 'option', 'provid', 'restaur', 'see', 'serv', 'situat', 'special', 'take', 'tell', 'thank', 'that', 'the', 'there', 'today', 'what', 'when', 'where', 'you', 'your']\n",
            "['deliveryoption', 'goodbye', 'greeting', 'hours', 'location', 'menu', 'payments', 'thanks', 'todaysmenu']\n"
          ],
          "name": "stdout"
        }
      ]
    },
    {
      "cell_type": "code",
      "metadata": {
        "colab": {
          "base_uri": "https://localhost:8080/"
        },
        "id": "Ecp61R3kizJo",
        "outputId": "d6717beb-ec6e-471d-b1ea-09d6d072cc6e"
      },
      "source": [
        "# Implementing bag of words\n",
        "training=[]\n",
        "output=[]\n",
        "# create an empty array for output\n",
        "output_empty = [0] * len(labels)\n",
        "print(output_empty)"
      ],
      "execution_count": 116,
      "outputs": [
        {
          "output_type": "stream",
          "text": [
            "[0, 0, 0, 0, 0, 0, 0, 0, 0]\n"
          ],
          "name": "stdout"
        }
      ]
    },
    {
      "cell_type": "code",
      "metadata": {
        "id": "1vkA2kDnjnHh"
      },
      "source": [
        "for x,doc in enumerate(doc_x):\n",
        "    bag=[]\n",
        "    pattern_word=[ps.stem(word.lower()) for word in nltk.word_tokenize(doc)]\n",
        "    #print(pattern_word)\n",
        "    for word in words:\n",
        "        if word  in pattern_word:\n",
        "            bag.append(1)\n",
        "        else:\n",
        "            bag.append(0) \n",
        "    # output is '1' for current tag and '0' for rest of other tags\n",
        "    training.append(bag)\n",
        "    output_row = list(output_empty)\n",
        "    output_row[labels.index(doc_y[x])] = 1\n",
        "    output.append(output_row)\n",
        "\n",
        "           \n"
      ],
      "execution_count": 117,
      "outputs": []
    },
    {
      "cell_type": "code",
      "metadata": {
        "colab": {
          "base_uri": "https://localhost:8080/"
        },
        "id": "ESDo_hAcnRl1",
        "outputId": "d8b4a672-a331-4af3-b79f-9545936a8381"
      },
      "source": [
        "print(len(training[0]))"
      ],
      "execution_count": 118,
      "outputs": [
        {
          "output_type": "stream",
          "text": [
            "58\n"
          ],
          "name": "stdout"
        }
      ]
    },
    {
      "cell_type": "code",
      "metadata": {
        "colab": {
          "base_uri": "https://localhost:8080/"
        },
        "id": "sdwabdhwoSPM",
        "outputId": "f420a714-c736-4510-c58e-3c57e27e276f"
      },
      "source": [
        "print(output)"
      ],
      "execution_count": 119,
      "outputs": [
        {
          "output_type": "stream",
          "text": [
            "[[0, 0, 1, 0, 0, 0, 0, 0, 0], [0, 0, 1, 0, 0, 0, 0, 0, 0], [0, 0, 1, 0, 0, 0, 0, 0, 0], [0, 0, 1, 0, 0, 0, 0, 0, 0], [0, 0, 1, 0, 0, 0, 0, 0, 0], [0, 1, 0, 0, 0, 0, 0, 0, 0], [0, 1, 0, 0, 0, 0, 0, 0, 0], [0, 1, 0, 0, 0, 0, 0, 0, 0], [0, 0, 0, 0, 0, 0, 0, 1, 0], [0, 0, 0, 0, 0, 0, 0, 1, 0], [0, 0, 0, 0, 0, 0, 0, 1, 0], [0, 0, 0, 1, 0, 0, 0, 0, 0], [0, 0, 0, 1, 0, 0, 0, 0, 0], [0, 0, 0, 1, 0, 0, 0, 0, 0], [0, 0, 0, 0, 1, 0, 0, 0, 0], [0, 0, 0, 0, 1, 0, 0, 0, 0], [0, 0, 0, 0, 1, 0, 0, 0, 0], [0, 0, 0, 0, 1, 0, 0, 0, 0], [0, 0, 0, 0, 0, 0, 1, 0, 0], [0, 0, 0, 0, 0, 0, 1, 0, 0], [0, 0, 0, 0, 0, 0, 1, 0, 0], [0, 0, 0, 0, 0, 0, 0, 0, 1], [0, 0, 0, 0, 0, 0, 0, 0, 1], [0, 0, 0, 0, 0, 0, 0, 0, 1], [1, 0, 0, 0, 0, 0, 0, 0, 0], [1, 0, 0, 0, 0, 0, 0, 0, 0], [1, 0, 0, 0, 0, 0, 0, 0, 0], [0, 0, 0, 0, 0, 1, 0, 0, 0], [0, 0, 0, 0, 0, 1, 0, 0, 0], [0, 0, 0, 0, 0, 1, 0, 0, 0], [0, 0, 0, 0, 0, 1, 0, 0, 0]]\n"
          ],
          "name": "stdout"
        }
      ]
    },
    {
      "cell_type": "code",
      "metadata": {
        "colab": {
          "base_uri": "https://localhost:8080/"
        },
        "id": "gKMaK7CwoV9k",
        "outputId": "2da4de39-54c7-4038-f382-d8256050850d"
      },
      "source": [
        "training=np.array(training)\n",
        "print(training.shape)\n",
        "output=np.array(output)"
      ],
      "execution_count": 120,
      "outputs": [
        {
          "output_type": "stream",
          "text": [
            "(31, 58)\n"
          ],
          "name": "stdout"
        }
      ]
    },
    {
      "cell_type": "code",
      "metadata": {
        "id": "YUWy5oJTokkr"
      },
      "source": [
        "\n",
        "# define the keras model\n",
        "model = Sequential()\n",
        "model.add(Dense(128, input_dim=58, activation='relu'))\n",
        "model.add(Dense(128, activation='relu'))\n",
        "model.add(Dense(9, activation='softmax'))\n"
      ],
      "execution_count": 121,
      "outputs": []
    },
    {
      "cell_type": "code",
      "metadata": {
        "id": "zG1itrLKpvJN"
      },
      "source": [
        "model.compile(loss='binary_crossentropy', optimizer='adam', metrics=['accuracy'])"
      ],
      "execution_count": 122,
      "outputs": []
    },
    {
      "cell_type": "code",
      "metadata": {
        "colab": {
          "base_uri": "https://localhost:8080/"
        },
        "id": "pys4HBT_p0F7",
        "outputId": "0ac7f38a-c603-4b74-b2fd-3cc95faa5948"
      },
      "source": [
        "# fit the keras model on the dataset\n",
        "model.fit(training, output, epochs=50, batch_size=10)"
      ],
      "execution_count": 123,
      "outputs": [
        {
          "output_type": "stream",
          "text": [
            "Epoch 1/50\n",
            "4/4 [==============================] - 0s 4ms/step - loss: 0.6616 - accuracy: 0.0991\n",
            "Epoch 2/50\n",
            "4/4 [==============================] - 0s 4ms/step - loss: 0.6170 - accuracy: 0.0791\n",
            "Epoch 3/50\n",
            "4/4 [==============================] - 0s 4ms/step - loss: 0.5757 - accuracy: 0.0883\n",
            "Epoch 4/50\n",
            "4/4 [==============================] - 0s 4ms/step - loss: 0.5299 - accuracy: 0.1578\n",
            "Epoch 5/50\n",
            "4/4 [==============================] - 0s 3ms/step - loss: 0.4882 - accuracy: 0.1478\n",
            "Epoch 6/50\n",
            "4/4 [==============================] - 0s 3ms/step - loss: 0.4449 - accuracy: 0.1774\n",
            "Epoch 7/50\n",
            "4/4 [==============================] - 0s 4ms/step - loss: 0.4087 - accuracy: 0.3257\n",
            "Epoch 8/50\n",
            "4/4 [==============================] - 0s 3ms/step - loss: 0.3742 - accuracy: 0.3748\n",
            "Epoch 9/50\n",
            "4/4 [==============================] - 0s 3ms/step - loss: 0.3495 - accuracy: 0.4148\n",
            "Epoch 10/50\n",
            "4/4 [==============================] - 0s 3ms/step - loss: 0.3316 - accuracy: 0.4740\n",
            "Epoch 11/50\n",
            "4/4 [==============================] - 0s 4ms/step - loss: 0.3287 - accuracy: 0.4735\n",
            "Epoch 12/50\n",
            "4/4 [==============================] - 0s 4ms/step - loss: 0.3142 - accuracy: 0.5431\n",
            "Epoch 13/50\n",
            "4/4 [==============================] - 0s 5ms/step - loss: 0.3073 - accuracy: 0.6743\n",
            "Epoch 14/50\n",
            "4/4 [==============================] - 0s 5ms/step - loss: 0.2969 - accuracy: 0.9509\n",
            "Epoch 15/50\n",
            "4/4 [==============================] - 0s 4ms/step - loss: 0.2893 - accuracy: 0.9009\n",
            "Epoch 16/50\n",
            "4/4 [==============================] - 0s 5ms/step - loss: 0.2779 - accuracy: 0.9704\n",
            "Epoch 17/50\n",
            "4/4 [==============================] - 0s 5ms/step - loss: 0.2696 - accuracy: 0.9704\n",
            "Epoch 18/50\n",
            "4/4 [==============================] - 0s 10ms/step - loss: 0.2605 - accuracy: 0.9704\n",
            "Epoch 19/50\n",
            "4/4 [==============================] - 0s 5ms/step - loss: 0.2514 - accuracy: 0.9704\n",
            "Epoch 20/50\n",
            "4/4 [==============================] - 0s 4ms/step - loss: 0.2463 - accuracy: 1.0000\n",
            "Epoch 21/50\n",
            "4/4 [==============================] - 0s 5ms/step - loss: 0.2367 - accuracy: 1.0000\n",
            "Epoch 22/50\n",
            "4/4 [==============================] - 0s 3ms/step - loss: 0.2231 - accuracy: 0.9609\n",
            "Epoch 23/50\n",
            "4/4 [==============================] - 0s 4ms/step - loss: 0.2183 - accuracy: 0.9609\n",
            "Epoch 24/50\n",
            "4/4 [==============================] - 0s 5ms/step - loss: 0.2074 - accuracy: 0.9209\n",
            "Epoch 25/50\n",
            "4/4 [==============================] - 0s 3ms/step - loss: 0.1991 - accuracy: 0.9409\n",
            "Epoch 26/50\n",
            "4/4 [==============================] - 0s 4ms/step - loss: 0.1849 - accuracy: 0.9509\n",
            "Epoch 27/50\n",
            "4/4 [==============================] - 0s 5ms/step - loss: 0.1763 - accuracy: 0.9704\n",
            "Epoch 28/50\n",
            "4/4 [==============================] - 0s 3ms/step - loss: 0.1613 - accuracy: 1.0000\n",
            "Epoch 29/50\n",
            "4/4 [==============================] - 0s 4ms/step - loss: 0.1595 - accuracy: 1.0000\n",
            "Epoch 30/50\n",
            "4/4 [==============================] - 0s 4ms/step - loss: 0.1492 - accuracy: 1.0000\n",
            "Epoch 31/50\n",
            "4/4 [==============================] - 0s 3ms/step - loss: 0.1420 - accuracy: 1.0000\n",
            "Epoch 32/50\n",
            "4/4 [==============================] - 0s 4ms/step - loss: 0.1409 - accuracy: 1.0000\n",
            "Epoch 33/50\n",
            "4/4 [==============================] - 0s 4ms/step - loss: 0.1234 - accuracy: 1.0000\n",
            "Epoch 34/50\n",
            "4/4 [==============================] - 0s 5ms/step - loss: 0.1201 - accuracy: 0.9804\n",
            "Epoch 35/50\n",
            "4/4 [==============================] - 0s 5ms/step - loss: 0.1124 - accuracy: 0.9704\n",
            "Epoch 36/50\n",
            "4/4 [==============================] - 0s 4ms/step - loss: 0.0965 - accuracy: 1.0000\n",
            "Epoch 37/50\n",
            "4/4 [==============================] - 0s 4ms/step - loss: 0.1032 - accuracy: 1.0000\n",
            "Epoch 38/50\n",
            "4/4 [==============================] - 0s 5ms/step - loss: 0.0877 - accuracy: 1.0000\n",
            "Epoch 39/50\n",
            "4/4 [==============================] - 0s 5ms/step - loss: 0.0866 - accuracy: 1.0000\n",
            "Epoch 40/50\n",
            "4/4 [==============================] - 0s 6ms/step - loss: 0.0831 - accuracy: 1.0000\n",
            "Epoch 41/50\n",
            "4/4 [==============================] - 0s 5ms/step - loss: 0.0730 - accuracy: 1.0000\n",
            "Epoch 42/50\n",
            "4/4 [==============================] - 0s 7ms/step - loss: 0.0720 - accuracy: 1.0000\n",
            "Epoch 43/50\n",
            "4/4 [==============================] - 0s 4ms/step - loss: 0.0676 - accuracy: 1.0000\n",
            "Epoch 44/50\n",
            "4/4 [==============================] - 0s 4ms/step - loss: 0.0643 - accuracy: 1.0000\n",
            "Epoch 45/50\n",
            "4/4 [==============================] - 0s 5ms/step - loss: 0.0608 - accuracy: 1.0000\n",
            "Epoch 46/50\n",
            "4/4 [==============================] - 0s 5ms/step - loss: 0.0578 - accuracy: 1.0000\n",
            "Epoch 47/50\n",
            "4/4 [==============================] - 0s 7ms/step - loss: 0.0539 - accuracy: 1.0000\n",
            "Epoch 48/50\n",
            "4/4 [==============================] - 0s 4ms/step - loss: 0.0525 - accuracy: 1.0000\n",
            "Epoch 49/50\n",
            "4/4 [==============================] - 0s 4ms/step - loss: 0.0472 - accuracy: 1.0000\n",
            "Epoch 50/50\n",
            "4/4 [==============================] - 0s 3ms/step - loss: 0.0474 - accuracy: 1.0000\n"
          ],
          "name": "stdout"
        },
        {
          "output_type": "execute_result",
          "data": {
            "text/plain": [
              "<tensorflow.python.keras.callbacks.History at 0x7f56ba920710>"
            ]
          },
          "metadata": {
            "tags": []
          },
          "execution_count": 123
        }
      ]
    },
    {
      "cell_type": "markdown",
      "metadata": {
        "id": "44cNAxF2q6ri"
      },
      "source": [
        "### Now we will make our chatbot"
      ]
    },
    {
      "cell_type": "code",
      "metadata": {
        "id": "TS7i08doq3wD"
      },
      "source": [
        "\n",
        "from tensorflow.keras.models import load_model\n",
        "\n",
        "model.save('chatbot_model.h5')\n"
      ],
      "execution_count": 124,
      "outputs": []
    },
    {
      "cell_type": "code",
      "metadata": {
        "id": "CX-D_C9ptsO4"
      },
      "source": [
        "def bag_of_word(input,words):\n",
        "    bag=[]\n",
        "    pattern_word=[ps.stem(word.lower()) for word in nltk.word_tokenize(input)]\n",
        "    #print(pattern_word)\n",
        "    for word in words:\n",
        "        if word  in pattern_word:\n",
        "            bag.append(1)\n",
        "        else:\n",
        "            bag.append(0) \n",
        "\n",
        "    return np.array(bag)        \n",
        "    "
      ],
      "execution_count": 134,
      "outputs": []
    },
    {
      "cell_type": "code",
      "metadata": {
        "colab": {
          "base_uri": "https://localhost:8080/"
        },
        "id": "c0PU-8bRw-3u",
        "outputId": "bb704ef8-171e-403a-8542-a8100604ee27"
      },
      "source": [
        "print(bag_of_word('hello',words))"
      ],
      "execution_count": 141,
      "outputs": [
        {
          "output_type": "stream",
          "text": [
            "[0 0 0 0 0 0 0 0 0 0 0 0 0 0 0 0 0 0 0 0 0 0 0 1 0 0 0 0 0 0 0 0 0 0 0 0 0\n",
            " 0 0 0 0 0 0 0 0 0 0 0 0 0 0 0 0 0 0 0 0 0]\n"
          ],
          "name": "stdout"
        }
      ]
    },
    {
      "cell_type": "code",
      "metadata": {
        "id": "YjF8eH5qvZOQ"
      },
      "source": [
        "from tensorflow.keras.models import load_model\n",
        "model=load_model('chatbot_model.h5')"
      ],
      "execution_count": 142,
      "outputs": []
    },
    {
      "cell_type": "code",
      "metadata": {
        "id": "6YdXvAIPtfcD"
      },
      "source": [
        "def chat():\n",
        "    print('start chating with the artificial intelligence chatbot( Type \"quit\" to stop chating')\n",
        "    while True:\n",
        "        inp=input('you: ')\n",
        "        if inp.lower()=='quit':\n",
        "            break\n",
        "        data_for_train=bag_of_word(inp,words)\n",
        "        data_for_train=data_for_train.reshape(1,58) \n",
        "        #print(data_for_train.shape) \n",
        "        results=model.predict(data_for_train)\n",
        "        #print(results)\n",
        "        coming_result=np.argmax(results)\n",
        "        tag=labels[coming_result]\n",
        "        for intent in data['intents']:\n",
        "            if intent['tag']==tag:\n",
        "                responses=intent['responses']\n",
        "        print(random.choice(responses))        \n",
        "\n",
        "        "
      ],
      "execution_count": 160,
      "outputs": []
    },
    {
      "cell_type": "code",
      "metadata": {
        "colab": {
          "base_uri": "https://localhost:8080/"
        },
        "id": "ItzY9sq3wCbu",
        "outputId": "3c6963c5-32f4-428b-da0d-0f396c6d8ab7"
      },
      "source": [
        "chat()"
      ],
      "execution_count": 161,
      "outputs": [
        {
          "output_type": "stream",
          "text": [
            "start chating with the artificial intelligence chatbot( Type \"quit\" to stop chating\n",
            "you: hello\n",
            "Hello, thanks for visiting\n",
            "you: how are you\n",
            "Good to see you again\n",
            "you: from where you are\n",
            "Our Address is: 1000 Bridge Avenue, London EC3N 4AJ, UK\n",
            "you: what is the today's menu\n",
            "You can visit www.mymenu.com for menu options\n",
            "you: what do you sell\n",
            "We have home delivery options through UBER Eats and Zomato\n",
            "you: quit\n"
          ],
          "name": "stdout"
        }
      ]
    }
  ]
}